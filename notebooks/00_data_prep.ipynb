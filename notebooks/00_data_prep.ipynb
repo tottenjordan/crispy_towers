{
 "cells": [
  {
   "cell_type": "markdown",
   "id": "e0e8ff02-f644-4281-80e6-99ec0eaa2c40",
   "metadata": {},
   "source": [
    "# Movielens download\n",
    "\n",
    "1. download MovieLens 1M public dataset\n",
    "2. Write datasets to TF-Records\n",
    "3. Generate dataset vocabulary and look-up dictionaries"
   ]
  },
  {
   "cell_type": "markdown",
   "id": "ff6d2373-31da-4937-8005-434a4d629ab6",
   "metadata": {},
   "source": [
    "## imports"
   ]
  },
  {
   "cell_type": "code",
   "execution_count": 1,
   "id": "e1343333-4ee4-43b1-85e1-1cbb1e3bf921",
   "metadata": {
    "tags": []
   },
   "outputs": [],
   "source": [
    "import sys\n",
    "sys.path.append(\"..\")\n",
    "import env_config"
   ]
  },
  {
   "cell_type": "code",
   "execution_count": 2,
   "id": "73be1d07-5aee-4914-a62c-dd799cde89a7",
   "metadata": {
    "tags": []
   },
   "outputs": [
    {
     "name": "stdout",
     "output_type": "stream",
     "text": [
      "PREFIX: jt-towers-v1\n",
      "PROJECT_ID: hybrid-vertex\n",
      "LOCATION: us-central1\n"
     ]
    }
   ],
   "source": [
    "print(f\"PREFIX: {env_config.PREFIX}\")\n",
    "print(f\"PROJECT_ID: {env_config.PROJECT_ID}\")\n",
    "print(f\"LOCATION: {env_config.LOCATION}\")"
   ]
  },
  {
   "cell_type": "code",
   "execution_count": 3,
   "id": "b1ca2619-fd0b-408d-aa04-0696d8ee2195",
   "metadata": {
    "tags": []
   },
   "outputs": [
    {
     "name": "stdout",
     "output_type": "stream",
     "text": [
      "/home/jupyter/crispy_towers/notebooks\n"
     ]
    }
   ],
   "source": [
    "!pwd"
   ]
  },
  {
   "cell_type": "code",
   "execution_count": 5,
   "id": "230b1d32-24fe-4ca2-877a-cbf16042d725",
   "metadata": {
    "tags": []
   },
   "outputs": [],
   "source": [
    "import os\n",
    "import json\n",
    "from pprint import pprint\n",
    "import pickle as pkl\n",
    "import numpy as np\n",
    "import pandas as pd\n",
    "\n",
    "import logging\n",
    "logging.disable(logging.WARNING)\n",
    "import warnings\n",
    "warnings.filterwarnings('ignore')\n",
    "\n",
    "# tensorflow\n",
    "os.environ['TF_CPP_MIN_LOG_LEVEL'] = '2'\n",
    "import tensorflow as tf\n",
    "import tensorflow_datasets as tfds\n",
    "\n",
    "# google cloud\n",
    "from google.cloud import aiplatform, storage\n",
    "\n",
    "# cloud storage client\n",
    "storage_client = storage.Client(project=env_config.PROJECT_ID)\n",
    "# bucket = storage_client.bucket(BUCKET_NAME)\n",
    "\n",
    "# Vertex client\n",
    "aiplatform.init(project=env_config.PROJECT_ID, location=env_config.LOCATION)\n",
    "\n",
    "sys.path.append(\"..\")\n",
    "from src.data import data_utils as data_utils"
   ]
  },
  {
   "cell_type": "markdown",
   "id": "879062dd-60f2-41c3-897e-30a18ab06c7f",
   "metadata": {},
   "source": [
    "## config: data download and prep"
   ]
  },
  {
   "cell_type": "code",
   "execution_count": 6,
   "id": "1e10e9ca-5ed1-4462-b497-943cedade9db",
   "metadata": {
    "tags": []
   },
   "outputs": [
    {
     "name": "stdout",
     "output_type": "stream",
     "text": [
      "EXAMPLE_GEN_GCS_PATH : data/movielens/m1m\n",
      "TF_RECORD_PREFIX     : ml1m\n",
      "MAX_CONTEXT_LENGTH   : 10\n",
      "MAX_GENRE_LENGTH     : 10\n"
     ]
    }
   ],
   "source": [
    "LOCAL_OUTPUT_DIR     = \"local_data/examples\"\n",
    "LOCAL_EXTRACT_DIR    = \"local_data/raw\"\n",
    "\n",
    "MIN_TIMELINE_LENGTH  = 3\n",
    "MIN_RATING           = 1\n",
    "\n",
    "NUM_TRAIN_RECORDS    = 8\n",
    "NUM_VAL_RECORDS      = 3\n",
    "\n",
    "BUILD_VOCAB          = True\n",
    "\n",
    "print(f\"EXAMPLE_GEN_GCS_PATH : {env_config.EXAMPLE_GEN_GCS_PATH}\")\n",
    "print(f\"TF_RECORD_PREFIX     : {env_config.TF_RECORD_PREFIX}\")\n",
    "print(f\"MAX_CONTEXT_LENGTH   : {env_config.MAX_CONTEXT_LENGTH}\")\n",
    "print(f\"MAX_GENRE_LENGTH     : {env_config.MAX_GENRE_LENGTH}\")"
   ]
  },
  {
   "cell_type": "markdown",
   "id": "651bc5e7-0e36-4a29-b108-0ef1efd68f7e",
   "metadata": {},
   "source": [
    "#### create GCS bucket"
   ]
  },
  {
   "cell_type": "code",
   "execution_count": 7,
   "id": "05eed2f6-2fef-4c65-abd4-48a23dba1573",
   "metadata": {
    "tags": []
   },
   "outputs": [],
   "source": [
    "REGION=env_config.LOCATION\n",
    "BUCKET_URI=f\"gs://{env_config.BUCKET_NAME}\""
   ]
  },
  {
   "cell_type": "code",
   "execution_count": 13,
   "id": "5323757e-af3c-401c-8e5d-72cabf5212fb",
   "metadata": {
    "tags": []
   },
   "outputs": [
    {
     "name": "stdout",
     "output_type": "stream",
     "text": [
      "Creating gs://jt-towers-v1-hybrid-vertex-bucket/...\n"
     ]
    }
   ],
   "source": [
    "!gsutil mb -l $REGION $BUCKET_URI"
   ]
  },
  {
   "cell_type": "markdown",
   "id": "452a4589-4534-45f2-9359-e89b3286c35c",
   "metadata": {},
   "source": [
    "### copy these commands to command line terminal"
   ]
  },
  {
   "cell_type": "code",
   "execution_count": 8,
   "id": "5371922b-8399-4dc5-8d46-cdbc7898d13a",
   "metadata": {
    "tags": []
   },
   "outputs": [
    {
     "name": "stdout",
     "output_type": "stream",
     "text": [
      "copy these commands into terminal:\n",
      "\n",
      "export PROJECT_ID=hybrid-vertex\n",
      "export BUCKET_NAME=jt-towers-v1-hybrid-vertex-bucket\n",
      "export EXAMPLE_GEN_GCS_PATH=data/movielens/m1m\n",
      "export TF_RECORD_PREFIX=ml1m\n",
      "export MAX_GENRE_LENGTH=10\n",
      "export MAX_CONTEXT_LENGTH=10\n",
      "export LOCAL_EXTRACT_DIR=local_data/raw\n",
      "export LOCAL_OUTPUT_DIR=local_data/examples\n",
      "export MIN_TIMELINE_LENGTH=3\n",
      "export MIN_RATING=1\n",
      "export BUILD_VOCAB=True\n",
      "export NUM_TRAIN_RECORDS=8\n",
      "export NUM_VAL_RECORDS=3\n",
      "chmod +x example_gen_movielens.py\n"
     ]
    }
   ],
   "source": [
    "print(\"copy these commands into terminal:\\n\")\n",
    "print(f\"export PROJECT_ID={env_config.PROJECT_ID}\")\n",
    "print(f\"export BUCKET_NAME={env_config.BUCKET_NAME}\")\n",
    "print(f\"export EXAMPLE_GEN_GCS_PATH={env_config.EXAMPLE_GEN_GCS_PATH}\")\n",
    "print(f\"export TF_RECORD_PREFIX={env_config.TF_RECORD_PREFIX}\")\n",
    "print(f\"export MAX_GENRE_LENGTH={env_config.MAX_GENRE_LENGTH}\")\n",
    "print(f\"export MAX_CONTEXT_LENGTH={env_config.MAX_CONTEXT_LENGTH}\")\n",
    "print(f\"export LOCAL_EXTRACT_DIR={LOCAL_EXTRACT_DIR}\")\n",
    "print(f\"export LOCAL_OUTPUT_DIR={LOCAL_OUTPUT_DIR}\")\n",
    "print(f\"export MIN_TIMELINE_LENGTH={MIN_TIMELINE_LENGTH}\")\n",
    "print(f\"export MIN_RATING={MIN_RATING}\")\n",
    "print(f\"export BUILD_VOCAB={BUILD_VOCAB}\")\n",
    "print(f\"export NUM_TRAIN_RECORDS={NUM_TRAIN_RECORDS}\")\n",
    "print(f\"export NUM_VAL_RECORDS={NUM_VAL_RECORDS}\")\n",
    "print(f\"chmod +x example_gen_movielens.py\")"
   ]
  },
  {
   "cell_type": "code",
   "execution_count": 15,
   "id": "02483473-8e55-49de-a9af-ac979450940c",
   "metadata": {
    "tags": []
   },
   "outputs": [
    {
     "name": "stdout",
     "output_type": "stream",
     "text": [
      "python example_gen_movielens.py --project_id=$PROJECT_ID --gcs_bucket_name=$BUCKET_NAME --gcs_data_path_prefix=$EXAMPLE_GEN_GCS_PATH --tfrecord_prefix=$TF_RECORD_PREFIX --local_data_dir=$LOCAL_EXTRACT_DIR --local_output_dir=$LOCAL_OUTPUT_DIR --min_timeline_length=$MIN_TIMELINE_LENGTH --max_context_length=$MAX_CONTEXT_LENGTH --max_context_movie_genre_length=$MAX_GENRE_LENGTH --min_rating=$MIN_RATING --train_data_fraction=0.9 --build_vocabs=$BUILD_VOCAB --num_train_tfrecords=$NUM_TRAIN_RECORDS --num_test_tfrecords=$NUM_VAL_RECORDS \n"
     ]
    }
   ],
   "source": [
    "data_gen_command = \"\"\"python example_gen_movielens.py --project_id=$PROJECT_ID --gcs_bucket_name=$BUCKET_NAME \\\n",
    "--gcs_data_path_prefix=$EXAMPLE_GEN_GCS_PATH \\\n",
    "--tfrecord_prefix=$TF_RECORD_PREFIX \\\n",
    "--local_data_dir=$LOCAL_EXTRACT_DIR \\\n",
    "--local_output_dir=$LOCAL_OUTPUT_DIR \\\n",
    "--min_timeline_length=$MIN_TIMELINE_LENGTH \\\n",
    "--max_context_length=$MAX_CONTEXT_LENGTH \\\n",
    "--max_context_movie_genre_length=$MAX_GENRE_LENGTH \\\n",
    "--min_rating=$MIN_RATING \\\n",
    "--train_data_fraction=0.9 \\\n",
    "--build_vocabs=$BUILD_VOCAB \\\n",
    "--num_train_tfrecords=$NUM_TRAIN_RECORDS \\\n",
    "--num_test_tfrecords=$NUM_VAL_RECORDS \\\n",
    "\"\"\"\n",
    "print(data_gen_command)"
   ]
  },
  {
   "cell_type": "markdown",
   "id": "b8f17dbe-0adc-44cc-a50e-ba13d1c8789f",
   "metadata": {},
   "source": [
    "# Confim tfrecords"
   ]
  },
  {
   "cell_type": "code",
   "execution_count": 9,
   "id": "4d0c63fc-145f-4d32-8576-04d4f6885186",
   "metadata": {
    "tags": []
   },
   "outputs": [
    {
     "name": "stdout",
     "output_type": "stream",
     "text": [
      "GCS_DATA_PATH : gs://jt-towers-v1-hybrid-vertex-bucket/data/movielens/m1m\n",
      "gs://jt-towers-v1-hybrid-vertex-bucket/data/movielens/m1m/train/\n",
      "gs://jt-towers-v1-hybrid-vertex-bucket/data/movielens/m1m/val/\n",
      "gs://jt-towers-v1-hybrid-vertex-bucket/data/movielens/m1m/vocabs/\n"
     ]
    }
   ],
   "source": [
    "GCS_DATA_PATH = f\"{env_config.BUCKET_URI}/{env_config.EXAMPLE_GEN_GCS_PATH}\"\n",
    "print(f\"GCS_DATA_PATH : {GCS_DATA_PATH}\")\n",
    "\n",
    "! gsutil ls $GCS_DATA_PATH"
   ]
  },
  {
   "cell_type": "code",
   "execution_count": 10,
   "id": "6651ff2b-9aa2-4f65-970f-b4f7ad16ce1b",
   "metadata": {
    "tags": []
   },
   "outputs": [
    {
     "data": {
      "text/plain": [
       "['gs://jt-towers-v1-hybrid-vertex-bucket/data/movielens/m1m/train/ml1m-001-of-008.tfrecord',\n",
       " 'gs://jt-towers-v1-hybrid-vertex-bucket/data/movielens/m1m/train/ml1m-002-of-008.tfrecord',\n",
       " 'gs://jt-towers-v1-hybrid-vertex-bucket/data/movielens/m1m/train/ml1m-003-of-008.tfrecord',\n",
       " 'gs://jt-towers-v1-hybrid-vertex-bucket/data/movielens/m1m/train/ml1m-004-of-008.tfrecord',\n",
       " 'gs://jt-towers-v1-hybrid-vertex-bucket/data/movielens/m1m/train/ml1m-005-of-008.tfrecord',\n",
       " 'gs://jt-towers-v1-hybrid-vertex-bucket/data/movielens/m1m/train/ml1m-006-of-008.tfrecord',\n",
       " 'gs://jt-towers-v1-hybrid-vertex-bucket/data/movielens/m1m/train/ml1m-007-of-008.tfrecord',\n",
       " 'gs://jt-towers-v1-hybrid-vertex-bucket/data/movielens/m1m/train/ml1m-008-of-008.tfrecord']"
      ]
     },
     "execution_count": 10,
     "metadata": {},
     "output_type": "execute_result"
    }
   ],
   "source": [
    "all_files = []\n",
    "for blob in storage_client.list_blobs(\n",
    "    f\"{env_config.BUCKET_NAME}\", \n",
    "    prefix=f'{env_config.EXAMPLE_GEN_GCS_PATH}/train/', \n",
    "    # delimiter='/'\n",
    "):\n",
    "    if '.tfrecord' in blob.name:\n",
    "        all_files.append(blob.public_url.replace(\"https://storage.googleapis.com/\", \"gs://\"))\n",
    "        \n",
    "all_files"
   ]
  },
  {
   "cell_type": "code",
   "execution_count": 11,
   "id": "38fd57d8-62cd-40a3-a158-a19b073d15f3",
   "metadata": {
    "tags": []
   },
   "outputs": [
    {
     "data": {
      "text/plain": [
       "['gs://jt-towers-v1-hybrid-vertex-bucket/data/movielens/m1m/train/ml1m-001-of-008.tfrecord',\n",
       " 'gs://jt-towers-v1-hybrid-vertex-bucket/data/movielens/m1m/train/ml1m-002-of-008.tfrecord',\n",
       " 'gs://jt-towers-v1-hybrid-vertex-bucket/data/movielens/m1m/train/ml1m-003-of-008.tfrecord',\n",
       " 'gs://jt-towers-v1-hybrid-vertex-bucket/data/movielens/m1m/train/ml1m-004-of-008.tfrecord',\n",
       " 'gs://jt-towers-v1-hybrid-vertex-bucket/data/movielens/m1m/train/ml1m-005-of-008.tfrecord',\n",
       " 'gs://jt-towers-v1-hybrid-vertex-bucket/data/movielens/m1m/train/ml1m-006-of-008.tfrecord',\n",
       " 'gs://jt-towers-v1-hybrid-vertex-bucket/data/movielens/m1m/train/ml1m-007-of-008.tfrecord',\n",
       " 'gs://jt-towers-v1-hybrid-vertex-bucket/data/movielens/m1m/train/ml1m-008-of-008.tfrecord',\n",
       " 'gs://jt-towers-v1-hybrid-vertex-bucket/data/movielens/m1m/val/ml1m-001-of-003.tfrecord',\n",
       " 'gs://jt-towers-v1-hybrid-vertex-bucket/data/movielens/m1m/val/ml1m-002-of-003.tfrecord',\n",
       " 'gs://jt-towers-v1-hybrid-vertex-bucket/data/movielens/m1m/val/ml1m-003-of-003.tfrecord']"
      ]
     },
     "execution_count": 11,
     "metadata": {},
     "output_type": "execute_result"
    }
   ],
   "source": [
    "for blob in storage_client.list_blobs(\n",
    "    f\"{env_config.BUCKET_NAME}\", \n",
    "    prefix=f'{env_config.EXAMPLE_GEN_GCS_PATH}/val/', \n",
    "    # delimiter='/'\n",
    "):\n",
    "    if '.tfrecord' in blob.name:\n",
    "        all_files.append(blob.public_url.replace(\"https://storage.googleapis.com/\", \"gs://\"))\n",
    "        \n",
    "all_files"
   ]
  },
  {
   "cell_type": "code",
   "execution_count": 13,
   "id": "eea40a61-9ff4-4127-8d2a-bcc5b9be24ef",
   "metadata": {
    "tags": []
   },
   "outputs": [
    {
     "name": "stdout",
     "output_type": "stream",
     "text": [
      "{'context_movie_genre': <tf.Tensor: shape=(1, 10), dtype=string, numpy=\n",
      "array([[b'Animation', b'Comedy', b'Thriller', b'Animation',\n",
      "        b\"Children's\", b'Comedy', b'Musical', b'Animation',\n",
      "        b\"Children's\", b'Comedy']], dtype=object)>,\n",
      " 'context_movie_id': <tf.Tensor: shape=(1, 10), dtype=string, numpy=\n",
      "array([[b'735', b'2009', b'2012', b'2965', b'3682', b'907', b'1268',\n",
      "        b'2231', b'887', b'902']], dtype=object)>,\n",
      " 'context_movie_rating': <tf.Tensor: shape=(1, 10), dtype=float32, numpy=array([[5., 4., 3., 2., 4., 3., 5., 4., 3., 4.]], dtype=float32)>,\n",
      " 'context_movie_title': <tf.Tensor: shape=(1, 10), dtype=string, numpy=\n",
      "array([[b'Close Shave, A (1995)', b'Jungle Book, The (1967)',\n",
      "        b'Little Mermaid, The (1989)', b'Robin Hood (1973)',\n",
      "        b'Chicken Run (2000)', b'Wizard of Oz, The (1939)',\n",
      "        b'This Is Spinal Tap (1984)', b'Producers, The (1968)',\n",
      "        b\"Singin' in the Rain (1952)\", b'My Fair Lady (1964)']],\n",
      "      dtype=object)>,\n",
      " 'context_movie_year': <tf.Tensor: shape=(1, 10), dtype=int64, numpy=array([[1995, 1967, 1989, 1973, 2000, 1939, 1984, 1968, 1952, 1964]])>,\n",
      " 'context_rating_timestamp': <tf.Tensor: shape=(1, 10), dtype=int64, numpy=\n",
      "array([[962569921, 962569966, 962569966, 962569966, 962569966, 962570076,\n",
      "        962570076, 962570076, 962570076, 962570099]])>,\n",
      " 'target_movie_genres': <tf.Tensor: shape=(1, 10), dtype=string, numpy=\n",
      "array([[b\"Children's\", b'Comedy', b'Musical', b'UNK', b'UNK', b'UNK',\n",
      "        b'UNK', b'UNK', b'UNK', b'UNK']], dtype=object)>,\n",
      " 'target_movie_id': <tf.Tensor: shape=(1,), dtype=string, numpy=array([b'1015'], dtype=object)>,\n",
      " 'target_movie_rating': <tf.Tensor: shape=(1,), dtype=float32, numpy=array([3.], dtype=float32)>,\n",
      " 'target_movie_title': <tf.Tensor: shape=(1,), dtype=string, numpy=array([b'Mary Poppins (1964)'], dtype=object)>,\n",
      " 'target_movie_year': <tf.Tensor: shape=(1,), dtype=int64, numpy=array([1964])>,\n",
      " 'target_rating_timestamp': <tf.Tensor: shape=(1,), dtype=int64, numpy=array([962570100])>,\n",
      " 'user_age': <tf.Tensor: shape=(1,), dtype=int64, numpy=array([25])>,\n",
      " 'user_gender': <tf.Tensor: shape=(1,), dtype=string, numpy=array([b'M'], dtype=object)>,\n",
      " 'user_id': <tf.Tensor: shape=(1,), dtype=string, numpy=array([b'5027'], dtype=object)>,\n",
      " 'user_occupation_text': <tf.Tensor: shape=(1,), dtype=string, numpy=array([b'programmer'], dtype=object)>,\n",
      " 'user_zip_code': <tf.Tensor: shape=(1,), dtype=string, numpy=array([b'92404'], dtype=object)>}\n"
     ]
    }
   ],
   "source": [
    "mv_dataset = tf.data.TFRecordDataset(all_files)\n",
    "# train_dataset = train_dataset.map(movielens_ds_utils.parse_tfrecord)\n",
    "mv_dataset = mv_dataset.map(data_utils._parse_function)\n",
    "\n",
    "for x in mv_dataset.batch(1).take(1):\n",
    "    pprint(x)"
   ]
  },
  {
   "cell_type": "markdown",
   "id": "ad00b6db-cb17-4322-ae4b-8b1386520899",
   "metadata": {},
   "source": [
    "# Validate vocab file"
   ]
  },
  {
   "cell_type": "code",
   "execution_count": 14,
   "id": "af320269-6526-4fdd-9cb7-da3f5cdb05e5",
   "metadata": {
    "tags": []
   },
   "outputs": [],
   "source": [
    "VOCAB_FILENAME=\"vocab_dict.pkl\""
   ]
  },
  {
   "cell_type": "code",
   "execution_count": 15,
   "id": "2592a985-f44d-4b67-9995-a9f7d61fe34c",
   "metadata": {
    "tags": []
   },
   "outputs": [
    {
     "name": "stdout",
     "output_type": "stream",
     "text": [
      "Downloading vocab...\n",
      "Downloaded vocab from: gs://jt-towers-v1-hybrid-vertex-bucket/data/movielens/m1m/vocabs/vocab_dict.pkl\n",
      "\n",
      "'movie_id'\n",
      "'movie_year'\n",
      "'movie_genre'\n",
      "'movie_title'\n",
      "'user_id'\n",
      "'user_gender_vocab'\n",
      "'user_age_vocab'\n",
      "'user_occ_vocab'\n",
      "'user_zip_vocab'\n",
      "'min_timestamp'\n",
      "'max_timestamp'\n",
      "'timestamp_buckets'\n"
     ]
    }
   ],
   "source": [
    "EXISTING_VOCAB_FILE = f'gs://{env_config.BUCKET_NAME}/{env_config.EXAMPLE_GEN_GCS_PATH}/vocabs/{VOCAB_FILENAME}'\n",
    "print(f\"Downloading vocab...\")\n",
    "\n",
    "os.system(f'gsutil -q cp {EXISTING_VOCAB_FILE} .')\n",
    "print(f\"Downloaded vocab from: {EXISTING_VOCAB_FILE}\\n\")\n",
    "\n",
    "filehandler = open(VOCAB_FILENAME, 'rb')\n",
    "vocab_dict = pkl.load(filehandler)\n",
    "filehandler.close()\n",
    "\n",
    "for key in vocab_dict.keys():\n",
    "    pprint(key)"
   ]
  },
  {
   "cell_type": "code",
   "execution_count": 25,
   "id": "27d3c6f1-9f97-47dc-835b-078fa15c60fd",
   "metadata": {
    "tags": []
   },
   "outputs": [
    {
     "name": "stdout",
     "output_type": "stream",
     "text": [
      "min: 0; max: 2000\n"
     ]
    }
   ],
   "source": [
    "list_of_years = vocab_dict['movie_year'] #.tolist()\n",
    "\n",
    "min_yr = min(list_of_years)\n",
    "max_yr = max(list_of_years)\n",
    "\n",
    "print(f\"min: {min_yr}; max: {max_yr}\")"
   ]
  },
  {
   "cell_type": "code",
   "execution_count": 16,
   "id": "a71bfc43-22cb-4576-8b75-c905725c1a9a",
   "metadata": {
    "tags": []
   },
   "outputs": [
    {
     "name": "stdout",
     "output_type": "stream",
     "text": [
      "MOVIELENS_NUM_MOVIES : 3884\n",
      "MOVIELENS_NUM_USERS  : 6041\n"
     ]
    }
   ],
   "source": [
    "MOVIELENS_NUM_MOVIES = len(vocab_dict['movie_id'])\n",
    "MOVIELENS_NUM_USERS = len(vocab_dict['user_id'])\n",
    "\n",
    "print(f\"MOVIELENS_NUM_MOVIES : {MOVIELENS_NUM_MOVIES}\")\n",
    "print(f\"MOVIELENS_NUM_USERS  : {MOVIELENS_NUM_USERS}\")"
   ]
  },
  {
   "cell_type": "markdown",
   "id": "9e8fac56-24b5-4334-920c-1e6a679b18cb",
   "metadata": {},
   "source": [
    "# Create look-up dictionaries"
   ]
  },
  {
   "cell_type": "code",
   "execution_count": 23,
   "id": "4c314130-1e04-4f88-a09f-8a896f3a0af5",
   "metadata": {
    "tags": []
   },
   "outputs": [
    {
     "name": "stdout",
     "output_type": "stream",
     "text": [
      "USER_AGE_DIM: 8\n",
      "USER_OCC_DIM: 22\n"
     ]
    }
   ],
   "source": [
    "USER_AGE_LOOKUP = data_utils.get_dictionary_lookup_by_tf_data_key(\n",
    "    key = 'user_age'\n",
    "    , dataset = mv_dataset\n",
    ")\n",
    "\n",
    "USER_AGE_DIM = len(USER_AGE_LOOKUP)\n",
    "print(f\"USER_AGE_DIM: {USER_AGE_DIM}\")\n",
    "\n",
    "\n",
    "USER_OCC_LOOKUP = data_utils.get_dictionary_lookup_by_tf_data_key(\n",
    "    key = 'user_occupation_text'\n",
    "    , dataset= mv_dataset\n",
    ")\n",
    "USER_OCC_LOOKUP[b''] = 21\n",
    "USER_OCC_DIM = len(USER_OCC_LOOKUP)\n",
    "print(f\"USER_OCC_DIM: {USER_OCC_DIM}\")"
   ]
  },
  {
   "cell_type": "code",
   "execution_count": 24,
   "id": "89276c90-ecee-47ac-a12c-c33568abe4a7",
   "metadata": {
    "tags": []
   },
   "outputs": [],
   "source": [
    "config = f'''\n",
    "USER_AGE_LOOKUP       = {USER_AGE_LOOKUP}\n",
    "USER_AGE_DIM          = {USER_AGE_DIM}\n",
    "USER_OCC_LOOKUP       = {USER_OCC_LOOKUP}\n",
    "USER_OCC_DIM          = {USER_OCC_DIM}\n",
    "MOVIELENS_NUM_MOVIES  = {MOVIELENS_NUM_MOVIES}\n",
    "MOVIELENS_NUM_USERS   = {MOVIELENS_NUM_USERS}\n",
    "'''\n",
    "    \n",
    "with open(f'../src/data/mv_lookup_dicts.py', 'w') as f:\n",
    "    f.write(config)"
   ]
  },
  {
   "cell_type": "code",
   "execution_count": 33,
   "id": "3dbbdef8-d5e8-4ac8-b709-9d1c2ac5b301",
   "metadata": {
    "tags": []
   },
   "outputs": [
    {
     "data": {
      "text/html": [
       "<div>\n",
       "<style scoped>\n",
       "    .dataframe tbody tr th:only-of-type {\n",
       "        vertical-align: middle;\n",
       "    }\n",
       "\n",
       "    .dataframe tbody tr th {\n",
       "        vertical-align: top;\n",
       "    }\n",
       "\n",
       "    .dataframe thead th {\n",
       "        text-align: right;\n",
       "    }\n",
       "</style>\n",
       "<table border=\"1\" class=\"dataframe\">\n",
       "  <thead>\n",
       "    <tr style=\"text-align: right;\">\n",
       "      <th></th>\n",
       "      <th>context_movie_genre</th>\n",
       "      <th>context_movie_id</th>\n",
       "      <th>context_movie_rating</th>\n",
       "      <th>context_movie_title</th>\n",
       "      <th>context_movie_year</th>\n",
       "      <th>context_rating_timestamp</th>\n",
       "      <th>target_movie_genres</th>\n",
       "      <th>target_movie_id</th>\n",
       "      <th>target_movie_rating</th>\n",
       "      <th>target_movie_title</th>\n",
       "      <th>target_movie_year</th>\n",
       "      <th>target_rating_timestamp</th>\n",
       "      <th>user_age</th>\n",
       "      <th>user_gender</th>\n",
       "      <th>user_id</th>\n",
       "      <th>user_occupation_text</th>\n",
       "      <th>user_zip_code</th>\n",
       "    </tr>\n",
       "  </thead>\n",
       "  <tbody>\n",
       "    <tr>\n",
       "      <th>0</th>\n",
       "      <td>[b'Animation', b'Comedy', b'Thriller', b'Anima...</td>\n",
       "      <td>[b'735', b'2009', b'2012', b'2965', b'3682', b...</td>\n",
       "      <td>[5.0, 4.0, 3.0, 2.0, 4.0, 3.0, 5.0, 4.0, 3.0, ...</td>\n",
       "      <td>[b'Close Shave, A (1995)', b'Jungle Book, The ...</td>\n",
       "      <td>[1995, 1967, 1989, 1973, 2000, 1939, 1984, 196...</td>\n",
       "      <td>[962569921, 962569966, 962569966, 962569966, 9...</td>\n",
       "      <td>[b\"Children's\", b'Comedy', b'Musical', b'UNK',...</td>\n",
       "      <td>b'1015'</td>\n",
       "      <td>3.0</td>\n",
       "      <td>b'Mary Poppins (1964)'</td>\n",
       "      <td>1964</td>\n",
       "      <td>962570100</td>\n",
       "      <td>25</td>\n",
       "      <td>b'M'</td>\n",
       "      <td>b'5027'</td>\n",
       "      <td>b'programmer'</td>\n",
       "      <td>b'92404'</td>\n",
       "    </tr>\n",
       "    <tr>\n",
       "      <th>1</th>\n",
       "      <td>[b'Drama', b'War', b'Drama', b'Comedy', b'Dram...</td>\n",
       "      <td>[b'40', b'1170', b'1223', b'3599', b'2993', b'...</td>\n",
       "      <td>[4.0, 3.0, 3.0, 4.0, 4.0, 2.0, 2.0, 3.0, 5.0, ...</td>\n",
       "      <td>[b'Richard III (1995)', b'Passion Fish (1992)'...</td>\n",
       "      <td>[1995, 1992, 1990, 1968, 1962, 1992, 1980, 198...</td>\n",
       "      <td>[965267494, 965267527, 965267527, 965267527, 9...</td>\n",
       "      <td>[b'Drama', b'UNK', b'UNK', b'UNK', b'UNK', b'U...</td>\n",
       "      <td>b'148'</td>\n",
       "      <td>5.0</td>\n",
       "      <td>b'Apollo 13 (1995)'</td>\n",
       "      <td>1995</td>\n",
       "      <td>965267578</td>\n",
       "      <td>25</td>\n",
       "      <td>b'M'</td>\n",
       "      <td>b'4302'</td>\n",
       "      <td>b'artist'</td>\n",
       "      <td>b'91910'</td>\n",
       "    </tr>\n",
       "    <tr>\n",
       "      <th>2</th>\n",
       "      <td>[b'Horror', b'Drama', b'UNK', b'UNK', b'UNK', ...</td>\n",
       "      <td>[b'2390', b'1104', b'0', b'0', b'0', b'0', b'0...</td>\n",
       "      <td>[4.0, 4.0, 0.0, 0.0, 0.0, 0.0, 0.0, 0.0, 0.0, ...</td>\n",
       "      <td>[b'Texas Chainsaw Massacre, The (1974)', b'Peo...</td>\n",
       "      <td>[1974, 1996, 0, 0, 0, 0, 0, 0, 0, 0]</td>\n",
       "      <td>[975796636, 975796636, 0, 0, 0, 0, 0, 0, 0, 0]</td>\n",
       "      <td>[b'Comedy', b'UNK', b'UNK', b'UNK', b'UNK', b'...</td>\n",
       "      <td>b'859'</td>\n",
       "      <td>1.0</td>\n",
       "      <td>b\"Gone Fishin' (1997)\"</td>\n",
       "      <td>1997</td>\n",
       "      <td>975796636</td>\n",
       "      <td>18</td>\n",
       "      <td>b'M'</td>\n",
       "      <td>b'620'</td>\n",
       "      <td>b'college/grad student'</td>\n",
       "      <td>b'93560'</td>\n",
       "    </tr>\n",
       "    <tr>\n",
       "      <th>3</th>\n",
       "      <td>[b'Drama', b'Romance', b'Drama', b'Comedy', b'...</td>\n",
       "      <td>[b'890', b'1282', b'1061', b'2484', b'1202', b...</td>\n",
       "      <td>[4.0, 3.0, 3.0, 3.0, 4.0, 4.0, 5.0, 0.0, 0.0, ...</td>\n",
       "      <td>[b\"Breakfast at Tiffany's (1961)\", b'Field of ...</td>\n",
       "      <td>[1961, 1989, 1973, 1960, 1980, 1982, 1977, 0, ...</td>\n",
       "      <td>[965524610, 965524610, 965524610, 965524646, 9...</td>\n",
       "      <td>[b'Horror', b'UNK', b'UNK', b'UNK', b'UNK', b'...</td>\n",
       "      <td>b'2949'</td>\n",
       "      <td>3.0</td>\n",
       "      <td>b'Re-Animator (1985)'</td>\n",
       "      <td>1985</td>\n",
       "      <td>965612488</td>\n",
       "      <td>35</td>\n",
       "      <td>b'M'</td>\n",
       "      <td>b'4018'</td>\n",
       "      <td>b'technician/engineer'</td>\n",
       "      <td>b'54601'</td>\n",
       "    </tr>\n",
       "    <tr>\n",
       "      <th>4</th>\n",
       "      <td>[b'Comedy', b'Drama', b'Comedy', b'Thriller', ...</td>\n",
       "      <td>[b'367', b'1434', b'2734', b'2226', b'365', b'...</td>\n",
       "      <td>[3.0, 3.0, 4.0, 4.0, 3.0, 3.0, 1.0, 3.0, 1.0, ...</td>\n",
       "      <td>[b'Paper, The (1994)', b'Vegas Vacation (1997)...</td>\n",
       "      <td>[1994, 1997, 1993, 1998, 1994, 1995, 1999, 199...</td>\n",
       "      <td>[974614949, 974615030, 974615030, 974615067, 9...</td>\n",
       "      <td>[b'Thriller', b'UNK', b'UNK', b'UNK', b'UNK', ...</td>\n",
       "      <td>b'3150'</td>\n",
       "      <td>4.0</td>\n",
       "      <td>b'Pacific Heights (1990)'</td>\n",
       "      <td>1990</td>\n",
       "      <td>974615327</td>\n",
       "      <td>50</td>\n",
       "      <td>b'M'</td>\n",
       "      <td>b'2172'</td>\n",
       "      <td>b'retired'</td>\n",
       "      <td>b'87502'</td>\n",
       "    </tr>\n",
       "  </tbody>\n",
       "</table>\n",
       "</div>"
      ],
      "text/plain": [
       "                                 context_movie_genre  \\\n",
       "0  [b'Animation', b'Comedy', b'Thriller', b'Anima...   \n",
       "1  [b'Drama', b'War', b'Drama', b'Comedy', b'Dram...   \n",
       "2  [b'Horror', b'Drama', b'UNK', b'UNK', b'UNK', ...   \n",
       "3  [b'Drama', b'Romance', b'Drama', b'Comedy', b'...   \n",
       "4  [b'Comedy', b'Drama', b'Comedy', b'Thriller', ...   \n",
       "\n",
       "                                    context_movie_id  \\\n",
       "0  [b'735', b'2009', b'2012', b'2965', b'3682', b...   \n",
       "1  [b'40', b'1170', b'1223', b'3599', b'2993', b'...   \n",
       "2  [b'2390', b'1104', b'0', b'0', b'0', b'0', b'0...   \n",
       "3  [b'890', b'1282', b'1061', b'2484', b'1202', b...   \n",
       "4  [b'367', b'1434', b'2734', b'2226', b'365', b'...   \n",
       "\n",
       "                                context_movie_rating  \\\n",
       "0  [5.0, 4.0, 3.0, 2.0, 4.0, 3.0, 5.0, 4.0, 3.0, ...   \n",
       "1  [4.0, 3.0, 3.0, 4.0, 4.0, 2.0, 2.0, 3.0, 5.0, ...   \n",
       "2  [4.0, 4.0, 0.0, 0.0, 0.0, 0.0, 0.0, 0.0, 0.0, ...   \n",
       "3  [4.0, 3.0, 3.0, 3.0, 4.0, 4.0, 5.0, 0.0, 0.0, ...   \n",
       "4  [3.0, 3.0, 4.0, 4.0, 3.0, 3.0, 1.0, 3.0, 1.0, ...   \n",
       "\n",
       "                                 context_movie_title  \\\n",
       "0  [b'Close Shave, A (1995)', b'Jungle Book, The ...   \n",
       "1  [b'Richard III (1995)', b'Passion Fish (1992)'...   \n",
       "2  [b'Texas Chainsaw Massacre, The (1974)', b'Peo...   \n",
       "3  [b\"Breakfast at Tiffany's (1961)\", b'Field of ...   \n",
       "4  [b'Paper, The (1994)', b'Vegas Vacation (1997)...   \n",
       "\n",
       "                                  context_movie_year  \\\n",
       "0  [1995, 1967, 1989, 1973, 2000, 1939, 1984, 196...   \n",
       "1  [1995, 1992, 1990, 1968, 1962, 1992, 1980, 198...   \n",
       "2               [1974, 1996, 0, 0, 0, 0, 0, 0, 0, 0]   \n",
       "3  [1961, 1989, 1973, 1960, 1980, 1982, 1977, 0, ...   \n",
       "4  [1994, 1997, 1993, 1998, 1994, 1995, 1999, 199...   \n",
       "\n",
       "                            context_rating_timestamp  \\\n",
       "0  [962569921, 962569966, 962569966, 962569966, 9...   \n",
       "1  [965267494, 965267527, 965267527, 965267527, 9...   \n",
       "2     [975796636, 975796636, 0, 0, 0, 0, 0, 0, 0, 0]   \n",
       "3  [965524610, 965524610, 965524610, 965524646, 9...   \n",
       "4  [974614949, 974615030, 974615030, 974615067, 9...   \n",
       "\n",
       "                                 target_movie_genres target_movie_id  \\\n",
       "0  [b\"Children's\", b'Comedy', b'Musical', b'UNK',...         b'1015'   \n",
       "1  [b'Drama', b'UNK', b'UNK', b'UNK', b'UNK', b'U...          b'148'   \n",
       "2  [b'Comedy', b'UNK', b'UNK', b'UNK', b'UNK', b'...          b'859'   \n",
       "3  [b'Horror', b'UNK', b'UNK', b'UNK', b'UNK', b'...         b'2949'   \n",
       "4  [b'Thriller', b'UNK', b'UNK', b'UNK', b'UNK', ...         b'3150'   \n",
       "\n",
       "   target_movie_rating         target_movie_title  target_movie_year  \\\n",
       "0                  3.0     b'Mary Poppins (1964)'               1964   \n",
       "1                  5.0        b'Apollo 13 (1995)'               1995   \n",
       "2                  1.0     b\"Gone Fishin' (1997)\"               1997   \n",
       "3                  3.0      b'Re-Animator (1985)'               1985   \n",
       "4                  4.0  b'Pacific Heights (1990)'               1990   \n",
       "\n",
       "   target_rating_timestamp  user_age user_gender  user_id  \\\n",
       "0                962570100        25        b'M'  b'5027'   \n",
       "1                965267578        25        b'M'  b'4302'   \n",
       "2                975796636        18        b'M'   b'620'   \n",
       "3                965612488        35        b'M'  b'4018'   \n",
       "4                974615327        50        b'M'  b'2172'   \n",
       "\n",
       "      user_occupation_text user_zip_code  \n",
       "0            b'programmer'      b'92404'  \n",
       "1                b'artist'      b'91910'  \n",
       "2  b'college/grad student'      b'93560'  \n",
       "3   b'technician/engineer'      b'54601'  \n",
       "4               b'retired'      b'87502'  "
      ]
     },
     "execution_count": 33,
     "metadata": {},
     "output_type": "execute_result"
    }
   ],
   "source": [
    "df_all = tfds.as_dataframe(mv_dataset.take(20))\n",
    "df_all.head(5)"
   ]
  },
  {
   "cell_type": "markdown",
   "id": "31dbaa49-0945-4a3e-adb2-cbc5ff3a50a3",
   "metadata": {},
   "source": [
    "# Create parsed candidate dataset\n",
    "\n",
    "> for help, see [Load data from DataFrame](https://cloud.google.com/bigquery/docs/samples/bigquery-load-table-dataframe#code-sample) from BigQuery code samples"
   ]
  },
  {
   "cell_type": "markdown",
   "id": "4f50692d-565b-4cb9-aed9-345b73a7db83",
   "metadata": {},
   "source": [
    "## Create BQ dataset"
   ]
  },
  {
   "cell_type": "code",
   "execution_count": 38,
   "id": "490fb86b-f6f3-4803-ae41-6605c9120fa9",
   "metadata": {
    "tags": []
   },
   "outputs": [],
   "source": [
    "import json \n",
    "import tensorflow_datasets as tfds\n",
    "from google.cloud import bigquery\n",
    "\n",
    "# bigquery client\n",
    "bqclient = bigquery.Client(project=env_config.PROJECT_ID)"
   ]
  },
  {
   "cell_type": "code",
   "execution_count": 39,
   "id": "4e9493cf-05b3-4518-9f6c-e79ef46cdab5",
   "metadata": {
    "tags": []
   },
   "outputs": [
    {
     "name": "stdout",
     "output_type": "stream",
     "text": [
      "BUCKET_NAME     = jt-towers-v1-hybrid-vertex-bucket\n",
      "BUCKET_URI      = gs://jt-towers-v1-hybrid-vertex-bucket\n",
      "BQ_DATASET_NAME = jt_towers_v1\n",
      "BQ_TABLE_REF    = hybrid-vertex.jt_towers_v1.test_tfrecord_dump\n"
     ]
    }
   ],
   "source": [
    "BQ_DATASET_NAME = f\"{env_config.BUCKET_NAME.lower().replace(env_config.PROJECT_ID,'')}\"\n",
    "BQ_DATASET_NAME = BQ_DATASET_NAME.replace('bucket','').replace('-','_').replace('__','_').rstrip(\"_\")\n",
    "\n",
    "BQ_TABLE_NAME = \"test_tfrecord_dump\"\n",
    "\n",
    "BQ_TABLE_REF = f\"{env_config.PROJECT_ID}.{BQ_DATASET_NAME}.{BQ_TABLE_NAME}\"\n",
    "\n",
    "print(f\"BUCKET_NAME     = {env_config.BUCKET_NAME}\")\n",
    "print(f\"BUCKET_URI      = {env_config.BUCKET_URI}\")\n",
    "print(f\"BQ_DATASET_NAME = {BQ_DATASET_NAME}\")\n",
    "print(f\"BQ_TABLE_REF    = {BQ_TABLE_REF}\")"
   ]
  },
  {
   "cell_type": "code",
   "execution_count": 40,
   "id": "9204be14-4dc1-43b1-8640-75f6d642515e",
   "metadata": {
    "tags": []
   },
   "outputs": [
    {
     "name": "stdout",
     "output_type": "stream",
     "text": [
      "hybrid-vertex:jt_towers_v1\n"
     ]
    }
   ],
   "source": [
    "ds = bigquery.Dataset(f\"{env_config.PROJECT_ID}.{BQ_DATASET_NAME}\")\n",
    "ds.location = \"US\"\n",
    "ds = bqclient.create_dataset(dataset = ds, exists_ok = False)\n",
    "print(ds.full_dataset_id)"
   ]
  },
  {
   "cell_type": "markdown",
   "id": "a3ceff86-0662-44bd-b7ad-9cf72b1e9d8a",
   "metadata": {},
   "source": [
    "### write tf examples to json"
   ]
  },
  {
   "cell_type": "code",
   "execution_count": 69,
   "id": "8a93f981-a774-4ebe-b91c-9cb119af0ad1",
   "metadata": {
    "tags": []
   },
   "outputs": [],
   "source": [
    "# BIGQUERY_TMP_FILE = \"tmp_bq.json\"\n",
    "# BATCH_SIZE= 5 # 1_000\n",
    "\n",
    "# with open(BIGQUERY_TMP_FILE, \"w\") as f:\n",
    "#     for example in mv_dataset.batch(BATCH_SIZE, drop_remainder=False).as_numpy_iterator():\n",
    "#         f.write(json.dumps(example) + \"\\n\")\n",
    "#         break"
   ]
  },
  {
   "cell_type": "code",
   "execution_count": 59,
   "id": "b4b0cc43-a4b9-4f9d-bdc9-a58b21724972",
   "metadata": {
    "tags": []
   },
   "outputs": [],
   "source": [
    "# BIGQUERY_TMP_FILE = \"tmp_bq.json\"\n",
    "# BATCH_SIZE= 5 # 1_000\n",
    "\n",
    "# with open(BIGQUERY_TMP_FILE, \"w\") as fp:\n",
    "#     for example in mv_dataset.batch(BATCH_SIZE, drop_remainder=False).as_numpy_iterator():\n",
    "#         json.dump(example, fp)\n",
    "#         break"
   ]
  },
  {
   "cell_type": "markdown",
   "id": "2dea8f21-7d85-4445-b24e-93efa3667f0d",
   "metadata": {},
   "source": [
    "> see [this example](https://github.com/tottenjordan/tf_vertex_agents/blob/main/02-supervised-to-bandit-training/02g-example-optimized-dataset.ipynb)\n",
    "\n",
    "```\n",
    "def build_dict_from_trajectory(\n",
    "    trajectory : trajectories.Trajectory\n",
    ") -> Dict[str, Any]:\n",
    "    trajectory_dict = {\n",
    "        \"step_type\": trajectory.step_type.numpy().tolist(),\n",
    "        \"observation\": [\n",
    "            {\n",
    "                \"observation_batch\": batch\n",
    "            } for batch in trajectory.observation['global'].numpy().tolist()\n",
    "        ],\n",
    "        \"chosen_arm_features\": [\n",
    "            {\n",
    "                \"chosen_arm_features_batch\": batch\n",
    "            } for batch in trajectory.policy_info.chosen_arm_features.numpy().tolist()\n",
    "        ],\n",
    "        \"action\": trajectory.action.numpy().tolist(),\n",
    "        \"next_step_type\": trajectory.next_step_type.numpy().tolist(),\n",
    "        \"reward\": trajectory.reward.numpy().tolist(),\n",
    "        \"discount\": trajectory.discount.numpy().tolist(),\n",
    "    }\n",
    "    return trajectory_dict\n",
    "```"
   ]
  },
  {
   "cell_type": "code",
   "execution_count": 82,
   "id": "97b26fe8-d012-4be1-a828-8f12b8c1324d",
   "metadata": {
    "tags": []
   },
   "outputs": [],
   "source": [
    "from typing import Dict, Any\n",
    "\n",
    "def build_dict_from_trajectory(\n",
    "    example,\n",
    ") -> Dict[str, Any]:\n",
    "    ex_dict = {\n",
    "        \"context\": [\n",
    "            {\n",
    "                \"context_movie_id\": batch \n",
    "            } for batch in example['context_movie_id'].numpy().tolist()\n",
    "            # {\n",
    "            #     \"context_movie_rating\": batch \n",
    "            # } for batch in example['context_movie_rating'].numpy().tolist()\n",
    "            # {\n",
    "            #     \"context_rating_timestamp\": batch \n",
    "            # } for batch in example['context_rating_timestamp'].numpy().tolist()\n",
    "            # {\n",
    "            #     \"context_movie_genre\": batch \n",
    "            # } for batch in example['context_movie_genre'].numpy().tolist()\n",
    "            # {\n",
    "            #     \"context_movie_year\": batch \n",
    "            # } for batch in example['context_movie_year'].numpy().tolist()\n",
    "            # {\n",
    "            #     \"context_movie_title\": batch \n",
    "            # } for batch in example['context_movie_title'].numpy().tolist()\n",
    "        ],\n",
    "        \"target_movie_id\": example['target_movie_id'].numpy().tolist(),\n",
    "        \"target_movie_rating\": example['target_movie_rating'].numpy().tolist(),\n",
    "        \"target_rating_timestamp\": example['target_rating_timestamp'].numpy().tolist(),\n",
    "        \"target_movie_genres\": example['target_movie_genres'].numpy().tolist(),\n",
    "        \"target_movie_year\": example['target_movie_year'].numpy().tolist(),\n",
    "        \"target_movie_title\": example['target_movie_title'].numpy().tolist(),\n",
    "    }\n",
    "    return ex_dict"
   ]
  },
  {
   "cell_type": "code",
   "execution_count": 83,
   "id": "b0b248f2-e5ef-4bdd-8f01-b19c48e14587",
   "metadata": {
    "collapsed": true,
    "jupyter": {
     "outputs_hidden": true
    },
    "tags": []
   },
   "outputs": [
    {
     "data": {
      "text/plain": [
       "{'context_movie_genre': <tf.Tensor: shape=(10, 10), dtype=string, numpy=\n",
       " array([[b'Animation', b'Comedy', b'Thriller', b'Animation',\n",
       "         b\"Children's\", b'Comedy', b'Musical', b'Animation',\n",
       "         b\"Children's\", b'Comedy'],\n",
       "        [b'Drama', b'War', b'Drama', b'Comedy', b'Drama', b'Drama',\n",
       "         b'Romance', b'Action', b'Drama', b'War'],\n",
       "        [b'Horror', b'Drama', b'UNK', b'UNK', b'UNK', b'UNK', b'UNK',\n",
       "         b'UNK', b'UNK', b'UNK'],\n",
       "        [b'Drama', b'Romance', b'Drama', b'Comedy', b'Sci-Fi', b'Horror',\n",
       "         b'Sci-Fi', b'Thriller', b'Action', b'Comedy'],\n",
       "        [b'Comedy', b'Drama', b'Comedy', b'Thriller', b'Comedy', b'Drama',\n",
       "         b'Drama', b'Action', b'Adventure', b'Horror'],\n",
       "        [b'Comedy', b'Drama', b'Action', b'Crime', b'Drama',\n",
       "         b'Documentary', b'Crime', b'Drama', b'Drama', b'Comedy'],\n",
       "        [b'Drama', b'Drama', b'Drama', b'Drama', b'Adventure', b'Drama',\n",
       "         b'Adventure', b'Drama', b'Drama', b'Adventure'],\n",
       "        [b'Drama', b'Sci-Fi', b'Thriller', b'Drama', b'Thriller',\n",
       "         b'Action', b'Crime', b'Mystery', b'Thriller', b'Action'],\n",
       "        [b'Action', b'Romance', b'Thriller', b'Action', b'Drama',\n",
       "         b'Action', b'Adventure', b'Comedy', b'Sci-Fi', b'Action'],\n",
       "        [b'Comedy', b'Fantasy', b'Romance', b'Sci-Fi', b\"Children's\",\n",
       "         b'Comedy', b'Sci-Fi', b'Adventure', b'Drama', b'Western']],\n",
       "       dtype=object)>,\n",
       " 'context_movie_id': <tf.Tensor: shape=(10, 10), dtype=string, numpy=\n",
       " array([[b'735', b'2009', b'2012', b'2965', b'3682', b'907', b'1268',\n",
       "         b'2231', b'887', b'902'],\n",
       "        [b'40', b'1170', b'1223', b'3599', b'2993', b'3192', b'3580',\n",
       "         b'3002', b'1885', b'2329'],\n",
       "        [b'2390', b'1104', b'0', b'0', b'0', b'0', b'0', b'0', b'0', b'0'],\n",
       "        [b'890', b'1282', b'1061', b'2484', b'1202', b'1081', b'3691',\n",
       "         b'0', b'0', b'0'],\n",
       "        [b'367', b'1434', b'2734', b'2226', b'365', b'145', b'2548',\n",
       "         b'2547', b'1469', b'556'],\n",
       "        [b'2928', b'2890', b'2843', b'3113', b'3714', b'3339', b'3827',\n",
       "         b'3841', b'3823', b'3684'],\n",
       "        [b'2329', b'2860', b'1771', b'3002', b'3099', b'1069', b'3278',\n",
       "         b'586', b'1166', b'1845'],\n",
       "        [b'2603', b'2619', b'2057', b'1505', b'2194', b'2994', b'2771',\n",
       "         b'1024', b'1450', b'1763'],\n",
       "        [b'373', b'3509', b'1539', b'2847', b'3633', b'2571', b'523',\n",
       "         b'604', b'2255', b'3675'],\n",
       "        [b'778', b'1984', b'586', b'2918', b'2092', b'9', b'1004', b'358',\n",
       "         b'3524', b'3846']], dtype=object)>,\n",
       " 'context_movie_rating': <tf.Tensor: shape=(10, 10), dtype=float32, numpy=\n",
       " array([[5., 4., 3., 2., 4., 3., 5., 4., 3., 4.],\n",
       "        [4., 3., 3., 4., 4., 2., 2., 3., 5., 4.],\n",
       "        [4., 4., 0., 0., 0., 0., 0., 0., 0., 0.],\n",
       "        [4., 3., 3., 3., 4., 4., 5., 0., 0., 0.],\n",
       "        [3., 3., 4., 4., 3., 3., 1., 3., 1., 4.],\n",
       "        [5., 5., 3., 3., 5., 2., 5., 4., 3., 1.],\n",
       "        [5., 4., 4., 5., 5., 5., 4., 5., 5., 3.],\n",
       "        [2., 3., 3., 2., 3., 2., 4., 1., 3., 2.],\n",
       "        [2., 3., 4., 3., 1., 5., 5., 5., 5., 4.],\n",
       "        [4., 1., 3., 5., 3., 5., 4., 3., 4., 4.]], dtype=float32)>,\n",
       " 'context_movie_title': <tf.Tensor: shape=(10, 10), dtype=string, numpy=\n",
       " array([[b'Close Shave, A (1995)', b'Jungle Book, The (1967)',\n",
       "         b'Little Mermaid, The (1989)', b'Robin Hood (1973)',\n",
       "         b'Chicken Run (2000)', b'Wizard of Oz, The (1939)',\n",
       "         b'This Is Spinal Tap (1984)', b'Producers, The (1968)',\n",
       "         b\"Singin' in the Rain (1952)\", b'My Fair Lady (1964)'],\n",
       "        [b'Richard III (1995)', b'Passion Fish (1992)',\n",
       "         b'Rosencrantz and Guildenstern Are Dead (1990)',\n",
       "         b'Romeo and Juliet (1968)', b'Longest Day, The (1962)',\n",
       "         b'Singles (1992)', b'American Gigolo (1980)',\n",
       "         b'Stand and Deliver (1987)', b'Rocky (1976)',\n",
       "         b'Miracle on 34th Street (1947)'],\n",
       "        [b'Texas Chainsaw Massacre, The (1974)',\n",
       "         b'People vs. Larry Flynt, The (1996)', b'UNK', b'UNK', b'UNK',\n",
       "         b'UNK', b'UNK', b'UNK', b'UNK', b'UNK'],\n",
       "        [b\"Breakfast at Tiffany's (1961)\", b'Field of Dreams (1989)',\n",
       "         b'Sleeper (1973)', b'Village of the Damned (1960)',\n",
       "         b'Blues Brothers, The (1980)',\n",
       "         b'E.T. the Extra-Terrestrial (1982)',\n",
       "         b'Kentucky Fried Movie, The (1977)', b'UNK', b'UNK', b'UNK'],\n",
       "        [b'Paper, The (1994)', b'Vegas Vacation (1997)',\n",
       "         b'Pelican Brief, The (1993)', b'Impostors, The (1998)',\n",
       "         b'Mrs. Parker and the Vicious Circle (1994)',\n",
       "         b'Basketball Diaries, The (1995)', b'Mummy, The (1999)',\n",
       "         b'Dick Tracy (1990)', b'Keys to Tulsa (1997)',\n",
       "         b'Beans of Egypt, Maine, The (1994)'],\n",
       "        [b'Being John Malkovich (1999)', b'Fight Club (1999)',\n",
       "         b'Limey, The (1999)',\n",
       "         b'Mr. Death: The Rise and Fall of Fred A. Leuchter Jr. (1999)',\n",
       "         b'Croupier (1998)', b'Erin Brockovich (2000)',\n",
       "         b'Almost Famous (2000)', b'Best in Show (2000)',\n",
       "         b'Nurse Betty (2000)', b'Patriot, The (2000)'],\n",
       "        [b'Miracle on 34th Street (1947)', b'Reds (1981)',\n",
       "         b'He Got Game (1998)', b'Stand and Deliver (1987)',\n",
       "         b'Easy Rider (1969)', b'Old Man and the Sea, The (1958)',\n",
       "         b'Never Cry Wolf (1983)', b'Dances with Wolves (1990)',\n",
       "         b'English Patient, The (1996)', b'Smoke Signals (1998)'],\n",
       "        [b'Thirteenth Floor, The (1999)',\n",
       "         b\"General's Daughter, The (1999)\", b'Snake Eyes (1998)',\n",
       "         b'Lost World: Jurassic Park, The (1997)',\n",
       "         b'Seventh Sign, The (1988)', b'Poison Ivy (1992)',\n",
       "         b'Stigmata (1999)', b'Lawnmower Man, The (1992)',\n",
       "         b'Saint, The (1997)', b'Lost in Space (1998)'],\n",
       "        [b'Speed (1994)', b'Gladiator (2000)', b'Men in Black (1997)',\n",
       "         b'Total Recall (1990)', b'Mad Max (1979)', b'Superman (1978)',\n",
       "         b\"Schindler's List (1993)\", b'Fargo (1996)',\n",
       "         b'Life Is Beautiful (La Vita \\xc3\\xa8 bella) (1997)',\n",
       "         b'Shaft (2000)'],\n",
       "        [b'Nutty Professor, The (1996)',\n",
       "         b'Honey, I Blew Up the Kid (1992)', b'Dances with Wolves (1990)',\n",
       "         b'Who Framed Roger Rabbit? (1988)',\n",
       "         b'NeverEnding Story, The (1984)', b'GoldenEye (1995)',\n",
       "         b'Swiss Family Robinson (1960)', b'Jungle Book, The (1994)',\n",
       "         b'Battlefield Earth (2000)', b'Remember the Titans (2000)']],\n",
       "       dtype=object)>,\n",
       " 'context_movie_year': <tf.Tensor: shape=(10, 10), dtype=int64, numpy=\n",
       " array([[1995, 1967, 1989, 1973, 2000, 1939, 1984, 1968, 1952, 1964],\n",
       "        [1995, 1992, 1990, 1968, 1962, 1992, 1980, 1987, 1976, 1947],\n",
       "        [1974, 1996,    0,    0,    0,    0,    0,    0,    0,    0],\n",
       "        [1961, 1989, 1973, 1960, 1980, 1982, 1977,    0,    0,    0],\n",
       "        [1994, 1997, 1993, 1998, 1994, 1995, 1999, 1990, 1997, 1994],\n",
       "        [1999, 1999, 1999, 1999, 1998, 2000, 2000, 2000, 2000, 2000],\n",
       "        [1947, 1981, 1998, 1987, 1969, 1958, 1983, 1990, 1996, 1998],\n",
       "        [1999, 1999, 1998, 1997, 1988, 1992, 1999, 1992, 1997, 1998],\n",
       "        [1994, 2000, 1997, 1990, 1979, 1978, 1993, 1996, 1997, 2000],\n",
       "        [1996, 1992, 1990, 1988, 1984, 1995, 1960, 1994, 2000, 2000]])>,\n",
       " 'context_rating_timestamp': <tf.Tensor: shape=(10, 10), dtype=int64, numpy=\n",
       " array([[962569921, 962569966, 962569966, 962569966, 962569966, 962570076,\n",
       "         962570076, 962570076, 962570076, 962570099],\n",
       "        [965267494, 965267527, 965267527, 965267527, 965267543, 965267543,\n",
       "         965267543, 965267578, 965267578, 965267578],\n",
       "        [975796636, 975796636,         0,         0,         0,         0,\n",
       "                 0,         0,         0,         0],\n",
       "        [965524610, 965524610, 965524610, 965524646, 965524646, 965524646,\n",
       "         965612443,         0,         0,         0],\n",
       "        [974614949, 974615030, 974615030, 974615067, 974615067, 974615107,\n",
       "         974615134, 974615215, 974615243, 974615273],\n",
       "        [960166697, 960166728, 960166762, 961704742, 966555735, 966555823,\n",
       "         975686595, 975686595, 975686667, 975686717],\n",
       "        [966645772, 966645772, 966645791, 966645836, 966645836, 966645836,\n",
       "         966645862, 966645890, 966645890, 966645890],\n",
       "        [970440043, 970440043, 970440099, 970440099, 970440118, 970440119,\n",
       "         970440325, 970440325, 970440349, 970440349],\n",
       "        [962609386, 962609415, 962609442, 962609442, 962609442, 962609450,\n",
       "         962609838, 962610122, 962610122, 962610253],\n",
       "        [980043565, 980043638, 980043724, 980043860, 980043860, 980043860,\n",
       "         980043860, 980043860, 983126986, 987458206]])>,\n",
       " 'target_movie_genres': <tf.Tensor: shape=(10, 10), dtype=string, numpy=\n",
       " array([[b\"Children's\", b'Comedy', b'Musical', b'UNK', b'UNK', b'UNK',\n",
       "         b'UNK', b'UNK', b'UNK', b'UNK'],\n",
       "        [b'Drama', b'UNK', b'UNK', b'UNK', b'UNK', b'UNK', b'UNK', b'UNK',\n",
       "         b'UNK', b'UNK'],\n",
       "        [b'Comedy', b'UNK', b'UNK', b'UNK', b'UNK', b'UNK', b'UNK',\n",
       "         b'UNK', b'UNK', b'UNK'],\n",
       "        [b'Horror', b'UNK', b'UNK', b'UNK', b'UNK', b'UNK', b'UNK',\n",
       "         b'UNK', b'UNK', b'UNK'],\n",
       "        [b'Thriller', b'UNK', b'UNK', b'UNK', b'UNK', b'UNK', b'UNK',\n",
       "         b'UNK', b'UNK', b'UNK'],\n",
       "        [b'Drama', b'UNK', b'UNK', b'UNK', b'UNK', b'UNK', b'UNK', b'UNK',\n",
       "         b'UNK', b'UNK'],\n",
       "        [b'Drama', b'Mystery', b'Romance', b'UNK', b'UNK', b'UNK', b'UNK',\n",
       "         b'UNK', b'UNK', b'UNK'],\n",
       "        [b'Sci-Fi', b'Thriller', b'UNK', b'UNK', b'UNK', b'UNK', b'UNK',\n",
       "         b'UNK', b'UNK', b'UNK'],\n",
       "        [b'Comedy', b'UNK', b'UNK', b'UNK', b'UNK', b'UNK', b'UNK',\n",
       "         b'UNK', b'UNK', b'UNK'],\n",
       "        [b'Comedy', b'UNK', b'UNK', b'UNK', b'UNK', b'UNK', b'UNK',\n",
       "         b'UNK', b'UNK', b'UNK']], dtype=object)>,\n",
       " 'target_movie_id': <tf.Tensor: shape=(10,), dtype=string, numpy=\n",
       " array([b'1015', b'148', b'859', b'2949', b'3150', b'3580', b'121', b'183',\n",
       "        b'3683', b'3791'], dtype=object)>,\n",
       " 'target_movie_rating': <tf.Tensor: shape=(10,), dtype=float32, numpy=array([3., 5., 1., 3., 4., 4., 5., 4., 4., 5.], dtype=float32)>,\n",
       " 'target_movie_title': <tf.Tensor: shape=(10,), dtype=string, numpy=\n",
       " array([b'Mary Poppins (1964)', b'Apollo 13 (1995)',\n",
       "        b\"Gone Fishin' (1997)\", b'Re-Animator (1985)',\n",
       "        b'Pacific Heights (1990)', b'American Gigolo (1980)',\n",
       "        b'Chungking Express (1994)', b'Net, The (1995)',\n",
       "        b'Me, Myself and Irene (2000)', b'Replacements, The (2000)'],\n",
       "       dtype=object)>,\n",
       " 'target_movie_year': <tf.Tensor: shape=(10,), dtype=int64, numpy=array([1964, 1995, 1997, 1985, 1990, 1980, 1994, 1995, 2000, 2000])>,\n",
       " 'target_rating_timestamp': <tf.Tensor: shape=(10,), dtype=int64, numpy=\n",
       " array([962570100, 965267578, 975796636, 965612488, 974615327, 975686872,\n",
       "        966645909, 970440349, 962610253, 987458525])>,\n",
       " 'user_age': <tf.Tensor: shape=(10,), dtype=int64, numpy=array([25, 25, 18, 35, 50, 25, 56, 35, 18,  1])>,\n",
       " 'user_gender': <tf.Tensor: shape=(10,), dtype=string, numpy=\n",
       " array([b'M', b'M', b'M', b'M', b'M', b'M', b'F', b'F', b'M', b'M'],\n",
       "       dtype=object)>,\n",
       " 'user_id': <tf.Tensor: shape=(10,), dtype=string, numpy=\n",
       " array([b'5027', b'4302', b'620', b'4018', b'2172', b'5584', b'3591',\n",
       "        b'3806', b'4966', b'2194'], dtype=object)>,\n",
       " 'user_occupation_text': <tf.Tensor: shape=(10,), dtype=string, numpy=\n",
       " array([b'programmer', b'artist', b'college/grad student',\n",
       "        b'technician/engineer', b'retired', b'college/grad student',\n",
       "        b'artist', b'unemployed', b'college/grad student', b'K-12 student'],\n",
       "       dtype=object)>,\n",
       " 'user_zip_code': <tf.Tensor: shape=(10,), dtype=string, numpy=\n",
       " array([b'92404', b'91910', b'93560', b'54601', b'87502', b'10016',\n",
       "        b'99701', b'32095', b'94708', b'60148'], dtype=object)>}"
      ]
     },
     "execution_count": 83,
     "metadata": {},
     "output_type": "execute_result"
    }
   ],
   "source": [
    "for x in mv_dataset.batch(10).take(1):\n",
    "    # test_traj = my_trajectory_fn(x)\n",
    "    test_dict = build_dict_from_trajectory(x)\n",
    "    break\n",
    "\n",
    "x"
   ]
  },
  {
   "cell_type": "code",
   "execution_count": 85,
   "id": "a59f8ab7-032d-4158-b178-5f760b49c796",
   "metadata": {
    "collapsed": true,
    "jupyter": {
     "outputs_hidden": true
    },
    "tags": []
   },
   "outputs": [
    {
     "data": {
      "text/plain": [
       "{'context': [{'context_movie_id': [b'735',\n",
       "    b'2009',\n",
       "    b'2012',\n",
       "    b'2965',\n",
       "    b'3682',\n",
       "    b'907',\n",
       "    b'1268',\n",
       "    b'2231',\n",
       "    b'887',\n",
       "    b'902']},\n",
       "  {'context_movie_id': [b'40',\n",
       "    b'1170',\n",
       "    b'1223',\n",
       "    b'3599',\n",
       "    b'2993',\n",
       "    b'3192',\n",
       "    b'3580',\n",
       "    b'3002',\n",
       "    b'1885',\n",
       "    b'2329']},\n",
       "  {'context_movie_id': [b'2390',\n",
       "    b'1104',\n",
       "    b'0',\n",
       "    b'0',\n",
       "    b'0',\n",
       "    b'0',\n",
       "    b'0',\n",
       "    b'0',\n",
       "    b'0',\n",
       "    b'0']},\n",
       "  {'context_movie_id': [b'890',\n",
       "    b'1282',\n",
       "    b'1061',\n",
       "    b'2484',\n",
       "    b'1202',\n",
       "    b'1081',\n",
       "    b'3691',\n",
       "    b'0',\n",
       "    b'0',\n",
       "    b'0']},\n",
       "  {'context_movie_id': [b'367',\n",
       "    b'1434',\n",
       "    b'2734',\n",
       "    b'2226',\n",
       "    b'365',\n",
       "    b'145',\n",
       "    b'2548',\n",
       "    b'2547',\n",
       "    b'1469',\n",
       "    b'556']},\n",
       "  {'context_movie_id': [b'2928',\n",
       "    b'2890',\n",
       "    b'2843',\n",
       "    b'3113',\n",
       "    b'3714',\n",
       "    b'3339',\n",
       "    b'3827',\n",
       "    b'3841',\n",
       "    b'3823',\n",
       "    b'3684']},\n",
       "  {'context_movie_id': [b'2329',\n",
       "    b'2860',\n",
       "    b'1771',\n",
       "    b'3002',\n",
       "    b'3099',\n",
       "    b'1069',\n",
       "    b'3278',\n",
       "    b'586',\n",
       "    b'1166',\n",
       "    b'1845']},\n",
       "  {'context_movie_id': [b'2603',\n",
       "    b'2619',\n",
       "    b'2057',\n",
       "    b'1505',\n",
       "    b'2194',\n",
       "    b'2994',\n",
       "    b'2771',\n",
       "    b'1024',\n",
       "    b'1450',\n",
       "    b'1763']},\n",
       "  {'context_movie_id': [b'373',\n",
       "    b'3509',\n",
       "    b'1539',\n",
       "    b'2847',\n",
       "    b'3633',\n",
       "    b'2571',\n",
       "    b'523',\n",
       "    b'604',\n",
       "    b'2255',\n",
       "    b'3675']},\n",
       "  {'context_movie_id': [b'778',\n",
       "    b'1984',\n",
       "    b'586',\n",
       "    b'2918',\n",
       "    b'2092',\n",
       "    b'9',\n",
       "    b'1004',\n",
       "    b'358',\n",
       "    b'3524',\n",
       "    b'3846']}],\n",
       " 'target_movie_id': [b'1015',\n",
       "  b'148',\n",
       "  b'859',\n",
       "  b'2949',\n",
       "  b'3150',\n",
       "  b'3580',\n",
       "  b'121',\n",
       "  b'183',\n",
       "  b'3683',\n",
       "  b'3791'],\n",
       " 'target_movie_rating': [3.0, 5.0, 1.0, 3.0, 4.0, 4.0, 5.0, 4.0, 4.0, 5.0],\n",
       " 'target_rating_timestamp': [962570100,\n",
       "  965267578,\n",
       "  975796636,\n",
       "  965612488,\n",
       "  974615327,\n",
       "  975686872,\n",
       "  966645909,\n",
       "  970440349,\n",
       "  962610253,\n",
       "  987458525],\n",
       " 'target_movie_genres': [[b\"Children's\",\n",
       "   b'Comedy',\n",
       "   b'Musical',\n",
       "   b'UNK',\n",
       "   b'UNK',\n",
       "   b'UNK',\n",
       "   b'UNK',\n",
       "   b'UNK',\n",
       "   b'UNK',\n",
       "   b'UNK'],\n",
       "  [b'Drama',\n",
       "   b'UNK',\n",
       "   b'UNK',\n",
       "   b'UNK',\n",
       "   b'UNK',\n",
       "   b'UNK',\n",
       "   b'UNK',\n",
       "   b'UNK',\n",
       "   b'UNK',\n",
       "   b'UNK'],\n",
       "  [b'Comedy',\n",
       "   b'UNK',\n",
       "   b'UNK',\n",
       "   b'UNK',\n",
       "   b'UNK',\n",
       "   b'UNK',\n",
       "   b'UNK',\n",
       "   b'UNK',\n",
       "   b'UNK',\n",
       "   b'UNK'],\n",
       "  [b'Horror',\n",
       "   b'UNK',\n",
       "   b'UNK',\n",
       "   b'UNK',\n",
       "   b'UNK',\n",
       "   b'UNK',\n",
       "   b'UNK',\n",
       "   b'UNK',\n",
       "   b'UNK',\n",
       "   b'UNK'],\n",
       "  [b'Thriller',\n",
       "   b'UNK',\n",
       "   b'UNK',\n",
       "   b'UNK',\n",
       "   b'UNK',\n",
       "   b'UNK',\n",
       "   b'UNK',\n",
       "   b'UNK',\n",
       "   b'UNK',\n",
       "   b'UNK'],\n",
       "  [b'Drama',\n",
       "   b'UNK',\n",
       "   b'UNK',\n",
       "   b'UNK',\n",
       "   b'UNK',\n",
       "   b'UNK',\n",
       "   b'UNK',\n",
       "   b'UNK',\n",
       "   b'UNK',\n",
       "   b'UNK'],\n",
       "  [b'Drama',\n",
       "   b'Mystery',\n",
       "   b'Romance',\n",
       "   b'UNK',\n",
       "   b'UNK',\n",
       "   b'UNK',\n",
       "   b'UNK',\n",
       "   b'UNK',\n",
       "   b'UNK',\n",
       "   b'UNK'],\n",
       "  [b'Sci-Fi',\n",
       "   b'Thriller',\n",
       "   b'UNK',\n",
       "   b'UNK',\n",
       "   b'UNK',\n",
       "   b'UNK',\n",
       "   b'UNK',\n",
       "   b'UNK',\n",
       "   b'UNK',\n",
       "   b'UNK'],\n",
       "  [b'Comedy',\n",
       "   b'UNK',\n",
       "   b'UNK',\n",
       "   b'UNK',\n",
       "   b'UNK',\n",
       "   b'UNK',\n",
       "   b'UNK',\n",
       "   b'UNK',\n",
       "   b'UNK',\n",
       "   b'UNK'],\n",
       "  [b'Comedy',\n",
       "   b'UNK',\n",
       "   b'UNK',\n",
       "   b'UNK',\n",
       "   b'UNK',\n",
       "   b'UNK',\n",
       "   b'UNK',\n",
       "   b'UNK',\n",
       "   b'UNK',\n",
       "   b'UNK']],\n",
       " 'target_movie_year': [1964,\n",
       "  1995,\n",
       "  1997,\n",
       "  1985,\n",
       "  1990,\n",
       "  1980,\n",
       "  1994,\n",
       "  1995,\n",
       "  2000,\n",
       "  2000],\n",
       " 'target_movie_title': [b'Mary Poppins (1964)',\n",
       "  b'Apollo 13 (1995)',\n",
       "  b\"Gone Fishin' (1997)\",\n",
       "  b'Re-Animator (1985)',\n",
       "  b'Pacific Heights (1990)',\n",
       "  b'American Gigolo (1980)',\n",
       "  b'Chungking Express (1994)',\n",
       "  b'Net, The (1995)',\n",
       "  b'Me, Myself and Irene (2000)',\n",
       "  b'Replacements, The (2000)']}"
      ]
     },
     "execution_count": 85,
     "metadata": {},
     "output_type": "execute_result"
    }
   ],
   "source": [
    "test_dict"
   ]
  },
  {
   "cell_type": "code",
   "execution_count": 76,
   "id": "53cb8309-0245-45da-adf2-811c085d4ff0",
   "metadata": {
    "tags": []
   },
   "outputs": [
    {
     "data": {
      "text/plain": [
       "{'context_movie_genre': array([[b'Animation', b'Comedy', b'Thriller', b'Animation',\n",
       "         b\"Children's\", b'Comedy', b'Musical', b'Animation',\n",
       "         b\"Children's\", b'Comedy'],\n",
       "        [b'Drama', b'War', b'Drama', b'Comedy', b'Drama', b'Drama',\n",
       "         b'Romance', b'Action', b'Drama', b'War'],\n",
       "        [b'Horror', b'Drama', b'UNK', b'UNK', b'UNK', b'UNK', b'UNK',\n",
       "         b'UNK', b'UNK', b'UNK'],\n",
       "        [b'Drama', b'Romance', b'Drama', b'Comedy', b'Sci-Fi', b'Horror',\n",
       "         b'Sci-Fi', b'Thriller', b'Action', b'Comedy'],\n",
       "        [b'Comedy', b'Drama', b'Comedy', b'Thriller', b'Comedy', b'Drama',\n",
       "         b'Drama', b'Action', b'Adventure', b'Horror']], dtype=object),\n",
       " 'context_movie_id': array([[b'735', b'2009', b'2012', b'2965', b'3682', b'907', b'1268',\n",
       "         b'2231', b'887', b'902'],\n",
       "        [b'40', b'1170', b'1223', b'3599', b'2993', b'3192', b'3580',\n",
       "         b'3002', b'1885', b'2329'],\n",
       "        [b'2390', b'1104', b'0', b'0', b'0', b'0', b'0', b'0', b'0', b'0'],\n",
       "        [b'890', b'1282', b'1061', b'2484', b'1202', b'1081', b'3691',\n",
       "         b'0', b'0', b'0'],\n",
       "        [b'367', b'1434', b'2734', b'2226', b'365', b'145', b'2548',\n",
       "         b'2547', b'1469', b'556']], dtype=object),\n",
       " 'context_movie_rating': array([[5., 4., 3., 2., 4., 3., 5., 4., 3., 4.],\n",
       "        [4., 3., 3., 4., 4., 2., 2., 3., 5., 4.],\n",
       "        [4., 4., 0., 0., 0., 0., 0., 0., 0., 0.],\n",
       "        [4., 3., 3., 3., 4., 4., 5., 0., 0., 0.],\n",
       "        [3., 3., 4., 4., 3., 3., 1., 3., 1., 4.]], dtype=float32),\n",
       " 'context_movie_title': array([[b'Close Shave, A (1995)', b'Jungle Book, The (1967)',\n",
       "         b'Little Mermaid, The (1989)', b'Robin Hood (1973)',\n",
       "         b'Chicken Run (2000)', b'Wizard of Oz, The (1939)',\n",
       "         b'This Is Spinal Tap (1984)', b'Producers, The (1968)',\n",
       "         b\"Singin' in the Rain (1952)\", b'My Fair Lady (1964)'],\n",
       "        [b'Richard III (1995)', b'Passion Fish (1992)',\n",
       "         b'Rosencrantz and Guildenstern Are Dead (1990)',\n",
       "         b'Romeo and Juliet (1968)', b'Longest Day, The (1962)',\n",
       "         b'Singles (1992)', b'American Gigolo (1980)',\n",
       "         b'Stand and Deliver (1987)', b'Rocky (1976)',\n",
       "         b'Miracle on 34th Street (1947)'],\n",
       "        [b'Texas Chainsaw Massacre, The (1974)',\n",
       "         b'People vs. Larry Flynt, The (1996)', b'UNK', b'UNK', b'UNK',\n",
       "         b'UNK', b'UNK', b'UNK', b'UNK', b'UNK'],\n",
       "        [b\"Breakfast at Tiffany's (1961)\", b'Field of Dreams (1989)',\n",
       "         b'Sleeper (1973)', b'Village of the Damned (1960)',\n",
       "         b'Blues Brothers, The (1980)',\n",
       "         b'E.T. the Extra-Terrestrial (1982)',\n",
       "         b'Kentucky Fried Movie, The (1977)', b'UNK', b'UNK', b'UNK'],\n",
       "        [b'Paper, The (1994)', b'Vegas Vacation (1997)',\n",
       "         b'Pelican Brief, The (1993)', b'Impostors, The (1998)',\n",
       "         b'Mrs. Parker and the Vicious Circle (1994)',\n",
       "         b'Basketball Diaries, The (1995)', b'Mummy, The (1999)',\n",
       "         b'Dick Tracy (1990)', b'Keys to Tulsa (1997)',\n",
       "         b'Beans of Egypt, Maine, The (1994)']], dtype=object),\n",
       " 'context_movie_year': array([[1995, 1967, 1989, 1973, 2000, 1939, 1984, 1968, 1952, 1964],\n",
       "        [1995, 1992, 1990, 1968, 1962, 1992, 1980, 1987, 1976, 1947],\n",
       "        [1974, 1996,    0,    0,    0,    0,    0,    0,    0,    0],\n",
       "        [1961, 1989, 1973, 1960, 1980, 1982, 1977,    0,    0,    0],\n",
       "        [1994, 1997, 1993, 1998, 1994, 1995, 1999, 1990, 1997, 1994]]),\n",
       " 'context_rating_timestamp': array([[962569921, 962569966, 962569966, 962569966, 962569966, 962570076,\n",
       "         962570076, 962570076, 962570076, 962570099],\n",
       "        [965267494, 965267527, 965267527, 965267527, 965267543, 965267543,\n",
       "         965267543, 965267578, 965267578, 965267578],\n",
       "        [975796636, 975796636,         0,         0,         0,         0,\n",
       "                 0,         0,         0,         0],\n",
       "        [965524610, 965524610, 965524610, 965524646, 965524646, 965524646,\n",
       "         965612443,         0,         0,         0],\n",
       "        [974614949, 974615030, 974615030, 974615067, 974615067, 974615107,\n",
       "         974615134, 974615215, 974615243, 974615273]]),\n",
       " 'target_movie_genres': array([[b\"Children's\", b'Comedy', b'Musical', b'UNK', b'UNK', b'UNK',\n",
       "         b'UNK', b'UNK', b'UNK', b'UNK'],\n",
       "        [b'Drama', b'UNK', b'UNK', b'UNK', b'UNK', b'UNK', b'UNK', b'UNK',\n",
       "         b'UNK', b'UNK'],\n",
       "        [b'Comedy', b'UNK', b'UNK', b'UNK', b'UNK', b'UNK', b'UNK',\n",
       "         b'UNK', b'UNK', b'UNK'],\n",
       "        [b'Horror', b'UNK', b'UNK', b'UNK', b'UNK', b'UNK', b'UNK',\n",
       "         b'UNK', b'UNK', b'UNK'],\n",
       "        [b'Thriller', b'UNK', b'UNK', b'UNK', b'UNK', b'UNK', b'UNK',\n",
       "         b'UNK', b'UNK', b'UNK']], dtype=object),\n",
       " 'target_movie_id': array([b'1015', b'148', b'859', b'2949', b'3150'], dtype=object),\n",
       " 'target_movie_rating': array([3., 5., 1., 3., 4.], dtype=float32),\n",
       " 'target_movie_title': array([b'Mary Poppins (1964)', b'Apollo 13 (1995)',\n",
       "        b\"Gone Fishin' (1997)\", b'Re-Animator (1985)',\n",
       "        b'Pacific Heights (1990)'], dtype=object),\n",
       " 'target_movie_year': array([1964, 1995, 1997, 1985, 1990]),\n",
       " 'target_rating_timestamp': array([962570100, 965267578, 975796636, 965612488, 974615327]),\n",
       " 'user_age': array([25, 25, 18, 35, 50]),\n",
       " 'user_gender': array([b'M', b'M', b'M', b'M', b'M'], dtype=object),\n",
       " 'user_id': array([b'5027', b'4302', b'620', b'4018', b'2172'], dtype=object),\n",
       " 'user_occupation_text': array([b'programmer', b'artist', b'college/grad student',\n",
       "        b'technician/engineer', b'retired'], dtype=object),\n",
       " 'user_zip_code': array([b'92404', b'91910', b'93560', b'54601', b'87502'], dtype=object)}"
      ]
     },
     "execution_count": 76,
     "metadata": {},
     "output_type": "execute_result"
    }
   ],
   "source": [
    "# type(example)\n",
    "example"
   ]
  },
  {
   "cell_type": "markdown",
   "id": "9c4d8fa3-0a08-4f6b-a37e-fad087c01eaa",
   "metadata": {},
   "source": [
    "### Load tmp file to BigQuery table"
   ]
  },
  {
   "cell_type": "code",
   "execution_count": 74,
   "id": "1742f159-f2b1-442a-87ce-1a0fdca7649c",
   "metadata": {
    "tags": []
   },
   "outputs": [],
   "source": [
    "job_config = bigquery.LoadJobConfig(\n",
    "    schema=[\n",
    "        bigquery.SchemaField(\"user_id\", bigquery.enums.SqlTypeNames.STRING),\n",
    "        bigquery.SchemaField(\"user_gender\", bigquery.enums.SqlTypeNames.STRING),\n",
    "        bigquery.SchemaField(\"user_age\", bigquery.enums.SqlTypeNames.INTEGER),\n",
    "        bigquery.SchemaField(\"user_occupation_text\", bigquery.enums.SqlTypeNames.STRING),\n",
    "        bigquery.SchemaField(\"user_zip_code\", bigquery.enums.SqlTypeNames.STRING),\n",
    "        bigquery.SchemaField(\n",
    "            \"a\",\n",
    "            \"RECORD\",\n",
    "            mode=\"REPEATED\",\n",
    "            fields=[\n",
    "                bigquery.SchemaField(\"context_movie_id\", bigquery.enums.SqlTypeNames.STRING, mode=\"REPEATED\"),\n",
    "                bigquery.SchemaField(\"context_movie_id\", bigquery.enums.SqlTypeNames.STRING, mode=\"REPEATED\"),\n",
    "                bigquery.SchemaField(\"context_movie_rating\", bigquery.enums.SqlTypeNames.FLOAT, mode=\"REPEATED\"),\n",
    "                bigquery.SchemaField(\"context_rating_timestamp\", bigquery.enums.SqlTypeNames.INTEGER, mode=\"REPEATED\"),\n",
    "                bigquery.SchemaField(\"context_movie_genre\", bigquery.enums.SqlTypeNames.STRING, mode=\"REPEATED\"),\n",
    "                bigquery.SchemaField(\"context_movie_year\", bigquery.enums.SqlTypeNames.INTEGER, mode=\"REPEATED\"),\n",
    "                bigquery.SchemaField(\"context_movie_title\", bigquery.enums.SqlTypeNames.STRING, mode=\"REPEATED\"),\n",
    "            ]\n",
    "        ),\n",
    "        bigquery.SchemaField(\"target_movie_id\", bigquery.enums.SqlTypeNames.STRING),\n",
    "        bigquery.SchemaField(\"target_movie_rating\", bigquery.enums.SqlTypeNames.FLOAT),\n",
    "        bigquery.SchemaField(\"target_rating_timestamp\", bigquery.enums.SqlTypeNames.INTEGER),\n",
    "        bigquery.SchemaField(\"target_movie_genres\", bigquery.enums.SqlTypeNames.STRING),\n",
    "        bigquery.SchemaField(\"target_movie_year\", bigquery.enums.SqlTypeNames.INTEGER),\n",
    "        bigquery.SchemaField(\"target_movie_title\", bigquery.enums.SqlTypeNames.STRING),\n",
    "    ],\n",
    "    # source_format=bigquery.SourceFormat.NEWLINE_DELIMITED_JSON,\n",
    ")"
   ]
  },
  {
   "cell_type": "code",
   "execution_count": 75,
   "id": "8f47a6ef-ff74-421b-a747-09e25a416816",
   "metadata": {
    "tags": []
   },
   "outputs": [
    {
     "ename": "ValueError",
     "evalue": "bq_schema contains fields not present in dataframe: {'a'}",
     "output_type": "error",
     "traceback": [
      "\u001b[0;31m---------------------------------------------------------------------------\u001b[0m",
      "\u001b[0;31mValueError\u001b[0m                                Traceback (most recent call last)",
      "Cell \u001b[0;32mIn[75], line 8\u001b[0m\n\u001b[1;32m      1\u001b[0m \u001b[38;5;66;03m## using tmp json file\u001b[39;00m\n\u001b[1;32m      2\u001b[0m \u001b[38;5;66;03m# with open(BIGQUERY_TMP_FILE, \"rb\") as source_file:\u001b[39;00m\n\u001b[1;32m      3\u001b[0m \u001b[38;5;66;03m#     load_job = bqclient.load_table_from_file(\u001b[39;00m\n\u001b[0;32m   (...)\u001b[0m\n\u001b[1;32m      6\u001b[0m \n\u001b[1;32m      7\u001b[0m \u001b[38;5;66;03m# using dataframe\u001b[39;00m\n\u001b[0;32m----> 8\u001b[0m job \u001b[38;5;241m=\u001b[39m \u001b[43mbqclient\u001b[49m\u001b[38;5;241;43m.\u001b[39;49m\u001b[43mload_table_from_dataframe\u001b[49m\u001b[43m(\u001b[49m\n\u001b[1;32m      9\u001b[0m \u001b[43m    \u001b[49m\u001b[43mdf_all\u001b[49m\u001b[43m,\u001b[49m\u001b[43m \u001b[49m\u001b[43mBQ_TABLE_REF\u001b[49m\u001b[43m,\u001b[49m\u001b[43m \u001b[49m\u001b[43mjob_config\u001b[49m\u001b[38;5;241;43m=\u001b[39;49m\u001b[43mjob_config\u001b[49m\n\u001b[1;32m     10\u001b[0m \u001b[43m)\u001b[49m\n\u001b[1;32m     12\u001b[0m job\u001b[38;5;241m.\u001b[39mresult()  \u001b[38;5;66;03m# Wait for the job to complete.\u001b[39;00m\n\u001b[1;32m     14\u001b[0m table \u001b[38;5;241m=\u001b[39m bqclient\u001b[38;5;241m.\u001b[39mget_table(BQ_TABLE_REF)  \u001b[38;5;66;03m# Make an API request.\u001b[39;00m\n",
      "File \u001b[0;32m/opt/conda/lib/python3.10/site-packages/google/cloud/bigquery/client.py:2777\u001b[0m, in \u001b[0;36mClient.load_table_from_dataframe\u001b[0;34m(self, dataframe, destination, num_retries, job_id, job_id_prefix, location, project, job_config, parquet_compression, timeout)\u001b[0m\n\u001b[1;32m   2759\u001b[0m         columns_and_indexes \u001b[38;5;241m=\u001b[39m \u001b[38;5;28mfrozenset\u001b[39m(\n\u001b[1;32m   2760\u001b[0m             name\n\u001b[1;32m   2761\u001b[0m             \u001b[38;5;28;01mfor\u001b[39;00m name, _ \u001b[38;5;129;01min\u001b[39;00m _pandas_helpers\u001b[38;5;241m.\u001b[39mlist_columns_and_indexes(dataframe)\n\u001b[1;32m   2762\u001b[0m         )\n\u001b[1;32m   2763\u001b[0m         new_job_config\u001b[38;5;241m.\u001b[39mschema \u001b[38;5;241m=\u001b[39m [\n\u001b[1;32m   2764\u001b[0m             \u001b[38;5;66;03m# Field description and policy tags are not needed to\u001b[39;00m\n\u001b[1;32m   2765\u001b[0m             \u001b[38;5;66;03m# serialize a data frame.\u001b[39;00m\n\u001b[0;32m   (...)\u001b[0m\n\u001b[1;32m   2774\u001b[0m             \u001b[38;5;28;01mif\u001b[39;00m field\u001b[38;5;241m.\u001b[39mname \u001b[38;5;129;01min\u001b[39;00m columns_and_indexes\n\u001b[1;32m   2775\u001b[0m         ]\n\u001b[0;32m-> 2777\u001b[0m new_job_config\u001b[38;5;241m.\u001b[39mschema \u001b[38;5;241m=\u001b[39m \u001b[43m_pandas_helpers\u001b[49m\u001b[38;5;241;43m.\u001b[39;49m\u001b[43mdataframe_to_bq_schema\u001b[49m\u001b[43m(\u001b[49m\n\u001b[1;32m   2778\u001b[0m \u001b[43m    \u001b[49m\u001b[43mdataframe\u001b[49m\u001b[43m,\u001b[49m\u001b[43m \u001b[49m\u001b[43mnew_job_config\u001b[49m\u001b[38;5;241;43m.\u001b[39;49m\u001b[43mschema\u001b[49m\n\u001b[1;32m   2779\u001b[0m \u001b[43m\u001b[49m\u001b[43m)\u001b[49m\n\u001b[1;32m   2781\u001b[0m \u001b[38;5;28;01mif\u001b[39;00m \u001b[38;5;129;01mnot\u001b[39;00m new_job_config\u001b[38;5;241m.\u001b[39mschema:\n\u001b[1;32m   2782\u001b[0m     \u001b[38;5;66;03m# the schema could not be fully detected\u001b[39;00m\n\u001b[1;32m   2783\u001b[0m     warnings\u001b[38;5;241m.\u001b[39mwarn(\n\u001b[1;32m   2784\u001b[0m         \u001b[38;5;124m\"\u001b[39m\u001b[38;5;124mSchema could not be detected for all columns. Loading from a \u001b[39m\u001b[38;5;124m\"\u001b[39m\n\u001b[1;32m   2785\u001b[0m         \u001b[38;5;124m\"\u001b[39m\u001b[38;5;124mdataframe without a schema will be deprecated in the future, \u001b[39m\u001b[38;5;124m\"\u001b[39m\n\u001b[0;32m   (...)\u001b[0m\n\u001b[1;32m   2788\u001b[0m         stacklevel\u001b[38;5;241m=\u001b[39m\u001b[38;5;241m2\u001b[39m,\n\u001b[1;32m   2789\u001b[0m     )\n",
      "File \u001b[0;32m/opt/conda/lib/python3.10/site-packages/google/cloud/bigquery/_pandas_helpers.py:482\u001b[0m, in \u001b[0;36mdataframe_to_bq_schema\u001b[0;34m(dataframe, bq_schema)\u001b[0m\n\u001b[1;32m    479\u001b[0m \u001b[38;5;66;03m# Catch any schema mismatch. The developer explicitly asked to serialize a\u001b[39;00m\n\u001b[1;32m    480\u001b[0m \u001b[38;5;66;03m# column, but it was not found.\u001b[39;00m\n\u001b[1;32m    481\u001b[0m \u001b[38;5;28;01mif\u001b[39;00m bq_schema_unused:\n\u001b[0;32m--> 482\u001b[0m     \u001b[38;5;28;01mraise\u001b[39;00m \u001b[38;5;167;01mValueError\u001b[39;00m(\n\u001b[1;32m    483\u001b[0m         \u001b[38;5;124m\"\u001b[39m\u001b[38;5;124mbq_schema contains fields not present in dataframe: \u001b[39m\u001b[38;5;132;01m{}\u001b[39;00m\u001b[38;5;124m\"\u001b[39m\u001b[38;5;241m.\u001b[39mformat(\n\u001b[1;32m    484\u001b[0m             bq_schema_unused\n\u001b[1;32m    485\u001b[0m         )\n\u001b[1;32m    486\u001b[0m     )\n\u001b[1;32m    488\u001b[0m \u001b[38;5;66;03m# If schema detection was not successful for all columns, also try with\u001b[39;00m\n\u001b[1;32m    489\u001b[0m \u001b[38;5;66;03m# pyarrow, if available.\u001b[39;00m\n\u001b[1;32m    490\u001b[0m \u001b[38;5;28;01mif\u001b[39;00m unknown_type_fields:\n",
      "\u001b[0;31mValueError\u001b[0m: bq_schema contains fields not present in dataframe: {'a'}"
     ]
    }
   ],
   "source": [
    "## using tmp json file\n",
    "# with open(BIGQUERY_TMP_FILE, \"rb\") as source_file:\n",
    "#     load_job = bqclient.load_table_from_file(\n",
    "#         source_file, BQ_TABLE_REF, job_config=job_config\n",
    "#     )\n",
    "\n",
    "# using dataframe\n",
    "job = bqclient.load_table_from_dataframe(\n",
    "    df_all, BQ_TABLE_REF, job_config=job_config\n",
    ")\n",
    "    \n",
    "job.result()  # Wait for the job to complete.\n",
    "\n",
    "table = bqclient.get_table(BQ_TABLE_REF)  # Make an API request.\n",
    "print(\n",
    "    \"Loaded {} rows and {} columns to {}\".format(\n",
    "        table.num_rows, len(table.schema), BQ_TABLE_REF\n",
    "    )\n",
    ")"
   ]
  },
  {
   "cell_type": "code",
   "execution_count": 71,
   "id": "09af7d5b-5b96-477d-9d3b-85d8e4f116d6",
   "metadata": {
    "tags": []
   },
   "outputs": [
    {
     "data": {
      "text/plain": [
       "'hybrid-vertex.jt_towers_v1.test_tfrecord_dump'"
      ]
     },
     "execution_count": 71,
     "metadata": {},
     "output_type": "execute_result"
    }
   ],
   "source": [
    "BQ_TABLE_REF"
   ]
  },
  {
   "cell_type": "markdown",
   "id": "20ecd35a-2409-4ab8-8517-37a2bc362b6c",
   "metadata": {},
   "source": [
    "## Run Dataflow pipeline"
   ]
  },
  {
   "cell_type": "code",
   "execution_count": null,
   "id": "f37f6691-8087-470d-8317-b23f4a1a9c7f",
   "metadata": {},
   "outputs": [],
   "source": [
    "# ! python3 main.py \\\n",
    "#     $PROJECT_ID \\        # 1\n",
    "#     $VPC_NETWORK_NAME \\  # 2\n",
    "#     $REGION \\            # 3\n",
    "#     $DATA_VERSION \\      # 4\n",
    "#     $BUCKET_NAME \\       # 5\n",
    "#     $CANDIDATE_PREFIX \\  # 6\n",
    "#     $BQ_DATASET \\        # 7\n",
    "#     $BQ_TABLE_CANDIDATES # 8"
   ]
  },
  {
   "cell_type": "code",
   "execution_count": null,
   "id": "93f2fae1-5780-4940-9923-006ab4a70382",
   "metadata": {},
   "outputs": [],
   "source": []
  },
  {
   "cell_type": "markdown",
   "id": "9a71c5ba-7ca3-4786-a49f-04a7180be903",
   "metadata": {},
   "source": [
    "# gitignore"
   ]
  },
  {
   "cell_type": "code",
   "execution_count": null,
   "id": "07e45129-2d1f-4160-b419-284e8532a4a6",
   "metadata": {},
   "outputs": [],
   "source": [
    "rm -rf `find . -name \"*.ipynb_checkpoints\" -o -name \"*.cpython-310.pyc\" -o -name \"__pycache__\"`"
   ]
  },
  {
   "cell_type": "code",
   "execution_count": 26,
   "id": "fd790c3a-0112-48da-a238-80e7b92f89f2",
   "metadata": {
    "tags": []
   },
   "outputs": [
    {
     "name": "stdout",
     "output_type": "stream",
     "text": [
      "Writing .gitignore\n"
     ]
    }
   ],
   "source": [
    "%%writefile .gitignore\n",
    "*.cpython-310.pyc\n",
    "*checkpoint*\n",
    "*.ipynb_checkpoints/*\n",
    "*/data/local_data/*\n",
    "*.csv\n",
    "*__pycache__\n",
    "*cpython-37.pyc\n",
    ".gitignore"
   ]
  },
  {
   "cell_type": "markdown",
   "id": "1fa6fb94-99b6-4b0c-a342-5fae48bbf856",
   "metadata": {},
   "source": [
    "# Clean up"
   ]
  },
  {
   "cell_type": "code",
   "execution_count": null,
   "id": "c64a9cb1-fabf-4008-bdb7-a824b5bb3c9a",
   "metadata": {},
   "outputs": [],
   "source": [
    "# (optional) delete local\n",
    "# cd src/data\n",
    "# rm -rf local_data"
   ]
  },
  {
   "cell_type": "markdown",
   "id": "b82461dc-2998-4594-b5dc-6fd32ab3bdd0",
   "metadata": {},
   "source": [
    "**finished**"
   ]
  }
 ],
 "metadata": {
  "environment": {
   "kernel": "conda-base-py",
   "name": "workbench-notebooks.m124",
   "type": "gcloud",
   "uri": "us-docker.pkg.dev/deeplearning-platform-release/gcr.io/workbench-notebooks:m124"
  },
  "kernelspec": {
   "display_name": "Python 3 (ipykernel) (Local)",
   "language": "python",
   "name": "conda-base-py"
  },
  "language_info": {
   "codemirror_mode": {
    "name": "ipython",
    "version": 3
   },
   "file_extension": ".py",
   "mimetype": "text/x-python",
   "name": "python",
   "nbconvert_exporter": "python",
   "pygments_lexer": "ipython3",
   "version": "3.10.14"
  }
 },
 "nbformat": 4,
 "nbformat_minor": 5
}
